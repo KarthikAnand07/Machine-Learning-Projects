{
 "cells": [
  {
   "cell_type": "code",
   "execution_count": 24,
   "id": "fce84c5e",
   "metadata": {},
   "outputs": [],
   "source": [
    "import csv\n",
    "import nltk\n",
    "from nltk.sentiment import SentimentIntensityAnalyzer"
   ]
  },
  {
   "cell_type": "code",
   "execution_count": 25,
   "id": "18cabc21",
   "metadata": {},
   "outputs": [
    {
     "name": "stderr",
     "output_type": "stream",
     "text": [
      "[nltk_data] Downloading package vader_lexicon to\n",
      "[nltk_data]     C:\\Users\\karth\\AppData\\Roaming\\nltk_data...\n"
     ]
    },
    {
     "data": {
      "text/plain": [
       "True"
      ]
     },
     "execution_count": 25,
     "metadata": {},
     "output_type": "execute_result"
    }
   ],
   "source": [
    "nltk.download('vader_lexicon')"
   ]
  },
  {
   "cell_type": "code",
   "execution_count": 26,
   "id": "5ab87c03",
   "metadata": {},
   "outputs": [],
   "source": [
    "# Step 1: Load Existing CSV File\n",
    "def load_csv(file_path):\n",
    "    articles = []\n",
    "    with open(file_path, 'r', newline='', encoding='utf-8') as csvfile:\n",
    "        reader = csv.DictReader(csvfile)\n",
    "        for row in reader:\n",
    "            articles.append(row)\n",
    "    return articles"
   ]
  },
  {
   "cell_type": "code",
   "execution_count": 27,
   "id": "b7f79234",
   "metadata": {},
   "outputs": [],
   "source": [
    "# Step 2: Sentiment Analysis using NLTK\n",
    "def analyze_sentiment(text):\n",
    "    sia = SentimentIntensityAnalyzer()\n",
    "    sentiment_score = sia.polarity_scores(text)['compound']\n",
    "    return sentiment_score"
   ]
  },
  {
   "cell_type": "code",
   "execution_count": 28,
   "id": "7f3450a2",
   "metadata": {},
   "outputs": [],
   "source": [
    "# Step 3: Update CSV with Sentiment Scores and Labels\n",
    "def update_csv_with_sentiment(articles):\n",
    "    for article in articles:\n",
    "        sentiment_score = analyze_sentiment(article['tweet'])\n",
    "        article['Sentiment Score'] = sentiment_score\n",
    "        if sentiment_score > 0.05:\n",
    "            article['Sentiment Label'] = 'Positive'\n",
    "        elif sentiment_score < -0.05:\n",
    "            article['Sentiment Label'] = 'Negative'\n",
    "        else:\n",
    "            article['Sentiment Label'] = 'Neutral'"
   ]
  },
  {
   "cell_type": "code",
   "execution_count": 29,
   "id": "f2a3985e",
   "metadata": {},
   "outputs": [],
   "source": [
    "if __name__ == \"__main__\":\n",
    "    # Step 1: Load Existing CSV File\n",
    "    existing_csv_path = r\"C:\\Users\\karth\\OneDrive\\Documents\\Artificial Intelligence Course Materials\\Self Exploration Projects\\Twitter Sentiment Analysis\\test.csv\"\n",
    "    articles = load_csv(existing_csv_path)\n",
    "\n",
    "    # Step 2: Sentiment Analysis using NLTK\n",
    "    update_csv_with_sentiment(articles)\n",
    "\n",
    "    # Step 3: Update CSV with Sentiment Scores\n",
    "    updated_csv_path = \"updated_twitter_data.csv\"\n",
    "    with open(updated_csv_path, 'w', newline='', encoding='utf-8') as csvfile:\n",
    "        fieldnames = articles[0].keys()\n",
    "        writer = csv.DictWriter(csvfile, fieldnames=fieldnames)\n",
    "        writer.writeheader()\n",
    "        for article in articles:\n",
    "            writer.writerow(article)"
   ]
  },
  {
   "cell_type": "code",
   "execution_count": null,
   "id": "338ad717",
   "metadata": {},
   "outputs": [],
   "source": []
  }
 ],
 "metadata": {
  "kernelspec": {
   "display_name": "Python 3 (ipykernel)",
   "language": "python",
   "name": "python3"
  },
  "language_info": {
   "codemirror_mode": {
    "name": "ipython",
    "version": 3
   },
   "file_extension": ".py",
   "mimetype": "text/x-python",
   "name": "python",
   "nbconvert_exporter": "python",
   "pygments_lexer": "ipython3",
   "version": "3.11.4"
  }
 },
 "nbformat": 4,
 "nbformat_minor": 5
}
